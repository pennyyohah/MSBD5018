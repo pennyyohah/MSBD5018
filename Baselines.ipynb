{
 "cells": [
  {
   "cell_type": "markdown",
   "metadata": {
    "id": "o_aZMITyGR5T"
   },
   "source": [
    "### Random Baseline"
   ]
  },
  {
   "cell_type": "code",
   "execution_count": 3,
   "metadata": {
    "colab": {
     "base_uri": "https://localhost:8080/"
    },
    "id": "tWKuxRBOwAjk",
    "outputId": "f0e6d417-f108-4b50-d347-5ba85036e065"
   },
   "outputs": [
    {
     "name": "stdout",
     "output_type": "stream",
     "text": [
      "\n",
      "> Loading 7939 examples located at 'data/tsd_train.csv'\n",
      "\n",
      "\n",
      "> Loading 690 examples located at 'data/tsd_trial.csv'\n",
      "\n",
      "\n",
      "> Loading 2000 examples located at 'data/tsd_test.csv'\n",
      "\n",
      "\n",
      "> Train Scores: Precision: 0.14253891981634653, Recall: 0.46930733203946473, F1: 0.1727047819361906\n",
      "\n",
      "> Dev Scores: Precision: 0.14655255743727147, Recall: 0.4730187802566585, F1: 0.1780296775100719\n",
      "\n",
      "> Test Scores: Precision: 0.08558277437142436, Recall: 0.3966986253276818, F1: 0.11700506630919316\n"
     ]
    }
   ],
   "source": [
    "# Random Baseline\n",
    "!python 'task_organizers_code/baselines/random_baseline.py'"
   ]
  },
  {
   "cell_type": "code",
   "execution_count": 3,
   "metadata": {
    "colab": {
     "base_uri": "https://localhost:8080/"
    },
    "id": "es6jO1qRv_kf",
    "outputId": "c32214fc-a692-4257-f4ec-8287ef1503a5"
   },
   "outputs": [
    {
     "name": "stdout",
     "output_type": "stream",
     "text": [
      "loading training data\n",
      "loading test data\n",
      "preparing training data\n",
      "Training!\n",
      "Losses {'ner': 32010.191540016705}\n",
      "Losses {'ner': 28505.944352031347}\n",
      "Losses {'ner': 25884.157514431736}\n",
      "Losses {'ner': 24932.66547934242}\n",
      "Losses {'ner': 24552.168604455088}\n",
      "Losses {'ner': 24197.556280711422}\n",
      "Losses {'ner': 23360.677100402136}\n",
      "Losses {'ner': 22425.2400677742}\n",
      "Losses {'ner': 21606.70521023466}\n",
      "Losses {'ner': 21433.172913212376}\n",
      "Losses {'ner': 20894.26998460071}\n",
      "Losses {'ner': 20042.233614561548}\n",
      "Losses {'ner': 20476.28880425001}\n",
      "Losses {'ner': 19735.924864420405}\n",
      "Losses {'ner': 19252.38234319231}\n",
      "Losses {'ner': 19136.818810216522}\n",
      "Losses {'ner': 20333.4616281382}\n",
      "Losses {'ner': 18722.168261590134}\n",
      "Losses {'ner': 18665.377075818444}\n",
      "Losses {'ner': 18110.46139913197}\n",
      "Losses {'ner': 18768.307285453957}\n",
      "Losses {'ner': 18479.018960841226}\n",
      "Losses {'ner': 18302.856936522112}\n",
      "Losses {'ner': 18280.947710021093}\n",
      "Losses {'ner': 17811.283376898387}\n",
      "Losses {'ner': 17734.826180627337}\n",
      "Losses {'ner': 18151.946709320102}\n",
      "Losses {'ner': 17516.165338743835}\n",
      "Losses {'ner': 17665.908456691417}\n",
      "Losses {'ner': 17642.928286605646}\n",
      "Evaluation:\n",
      "Dev set: Precision = 0.6773986988847622, Recall = 0.5532653361528216, F1 = 0.5728969070053515\n",
      "Test set: Precision = 0.6658081398407595, Recall = 0.6685583963541671, F1 = 0.6507101696218504\n",
      "Time: 35.03897310098012 mins\n"
     ]
    }
   ],
   "source": [
    "# SpaCy NER baseline\n",
    "!python 'task_organizers_code/baselines/spacy_tagging.py'"
   ]
  },
  {
   "cell_type": "code",
   "execution_count": null,
   "metadata": {},
   "outputs": [],
   "source": []
  }
 ],
 "metadata": {
  "accelerator": "GPU",
  "colab": {
   "collapsed_sections": [],
   "machine_shape": "hm",
   "name": "Baselines.ipynb",
   "provenance": []
  },
  "kernelspec": {
   "display_name": "Python 3",
   "language": "python",
   "name": "python3"
  },
  "language_info": {
   "codemirror_mode": {
    "name": "ipython",
    "version": 3
   },
   "file_extension": ".py",
   "mimetype": "text/x-python",
   "name": "python",
   "nbconvert_exporter": "python",
   "pygments_lexer": "ipython3",
   "version": "3.8.5"
  }
 },
 "nbformat": 4,
 "nbformat_minor": 1
}